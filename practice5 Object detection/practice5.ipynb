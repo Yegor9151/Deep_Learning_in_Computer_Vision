{
 "cells": [
  {
   "cell_type": "markdown",
   "metadata": {},
   "source": [
    "# Обучить детектор объектов с помощью TensorFlow Object Detection API\n",
    "\n",
    "# Библиотеки: [Python, Tensorflow]"
   ]
  },
  {
   "cell_type": "markdown",
   "metadata": {},
   "source": [
    "####Ссылки на практическию работу:\n",
    "- [git version](https://github.com/Yegor9151/Deep_Learning_in_Computer_Vision/blob/main/practice5%20Object%20detection/practice5_git_version.ipynb) - Может не загружаться.\n",
    "- [colab verion](https://colab.research.google.com/drive/1tZATBvydKkcaJYBZsEA8S1JCCmMB9Jmr?usp=sharing) - Работает стабильно."
   ]
  }
 ],
 "metadata": {
  "kernelspec": {
   "display_name": "Python 3",
   "language": "python",
   "name": "python3"
  },
  "language_info": {
   "codemirror_mode": {
    "name": "ipython",
    "version": 3
   },
   "file_extension": ".py",
   "mimetype": "text/x-python",
   "name": "python",
   "nbconvert_exporter": "python",
   "pygments_lexer": "ipython3",
   "version": "3.7.4"
  }
 },
 "nbformat": 4,
 "nbformat_minor": 2
}
